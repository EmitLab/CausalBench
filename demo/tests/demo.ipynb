{
 "cells": [
  {
   "cell_type": "markdown",
   "source": [
    "Import Causal Bench packages"
   ],
   "metadata": {
    "collapsed": false
   },
   "id": "83687961d1b83ccd"
  },
  {
   "cell_type": "code",
   "execution_count": 1,
   "id": "initial_id",
   "metadata": {
    "collapsed": true,
    "ExecuteTime": {
     "end_time": "2024-06-02T15:25:47.476560Z",
     "start_time": "2024-06-02T15:25:45.901959Z"
    }
   },
   "outputs": [],
   "source": [
    "from causalbench.modules import Dataset\n",
    "from causalbench.modules import Metric\n",
    "from causalbench.modules import Model\n",
    "from causalbench.modules import Pipeline\n",
    "from causalbench.modules import Run"
   ]
  },
  {
   "cell_type": "markdown",
   "source": [
    "Create and publish a dataset"
   ],
   "metadata": {
    "collapsed": false
   },
   "id": "3275f95b13356515"
  },
  {
   "cell_type": "code",
   "outputs": [
    {
     "name": "stderr",
     "output_type": "stream",
     "text": [
      "Dataset published: ID=42\n"
     ]
    }
   ],
   "source": [
    "dataset1: Dataset = Dataset(zip_file=\"data/abalone.zip\")\n",
    "dataset1.publish()"
   ],
   "metadata": {
    "collapsed": false,
    "ExecuteTime": {
     "end_time": "2024-06-02T15:25:53.306795Z",
     "start_time": "2024-06-02T15:25:50.766699Z"
    }
   },
   "id": "3ed71dd6ffaff1ec",
   "execution_count": 2
  },
  {
   "cell_type": "markdown",
   "source": [
    "Create and publish a model"
   ],
   "metadata": {
    "collapsed": false
   },
   "id": "43ca84d0be392c7a"
  },
  {
   "cell_type": "code",
   "outputs": [
    {
     "name": "stderr",
     "output_type": "stream",
     "text": [
      "Model published: ID=33\n"
     ]
    }
   ],
   "source": [
    "model1: Model = Model(zip_file='model/ges.zip')\n",
    "model1.publish()"
   ],
   "metadata": {
    "collapsed": false,
    "ExecuteTime": {
     "end_time": "2024-06-02T15:25:56.090285Z",
     "start_time": "2024-06-02T15:25:55.237591Z"
    }
   },
   "id": "f522cf8f175f2067",
   "execution_count": 3
  },
  {
   "cell_type": "markdown",
   "source": [
    "Create and publish a metric"
   ],
   "metadata": {
    "collapsed": false
   },
   "id": "ebbc20244147ff76"
  },
  {
   "cell_type": "code",
   "outputs": [
    {
     "name": "stderr",
     "output_type": "stream",
     "text": [
      "Metric published: ID=43\n"
     ]
    }
   ],
   "source": [
    "metric1: Metric = Metric(zip_file='metric/accuracy_static.zip')\n",
    "metric1.publish()"
   ],
   "metadata": {
    "collapsed": false,
    "ExecuteTime": {
     "end_time": "2024-06-02T15:25:59.197911Z",
     "start_time": "2024-06-02T15:25:58.332952Z"
    }
   },
   "id": "a32e9b9b6a0b6f37",
   "execution_count": 4
  },
  {
   "cell_type": "markdown",
   "source": [
    "Create and publish a pipeline"
   ],
   "metadata": {
    "collapsed": false
   },
   "id": "7da746aa6b274028"
  },
  {
   "cell_type": "code",
   "outputs": [
    {
     "name": "stderr",
     "output_type": "stream",
     "text": [
      "Pipeline published: ID=42\n"
     ]
    }
   ],
   "source": [
    "pipeline1: Pipeline = Pipeline.create(name='pipeline1',\n",
    "                                task='discovery.static',\n",
    "                                dataset=dataset1,\n",
    "                                model=(model1, {'data': 'file1'}),\n",
    "                                metrics=[(metric1, {'ground_truth': 'file2'})])\n",
    "pipeline1.publish()"
   ],
   "metadata": {
    "collapsed": false,
    "ExecuteTime": {
     "end_time": "2024-06-02T15:26:02.352626Z",
     "start_time": "2024-06-02T15:26:01.453380Z"
    }
   },
   "id": "793ef0bc8d49a6ab",
   "execution_count": 5
  },
  {
   "cell_type": "markdown",
   "source": [
    "Execute the pipeline and print the run"
   ],
   "metadata": {
    "collapsed": false
   },
   "id": "e4b2743d38dcc019"
  },
  {
   "cell_type": "code",
   "outputs": [
    {
     "name": "stdout",
     "output_type": "stream",
     "text": [
      "--------------------------------------------------------------------------------\n",
      "Task: discovery.static\n",
      "Dataset: abalone\n",
      "Model: ges\n",
      "\n",
      "Metrics:\n",
      "    accuracy_static: 0.6049382716049383\n",
      "--------------------------------------------------------------------------------\n"
     ]
    }
   ],
   "source": [
    "run1: Run = pipeline1.execute()\n",
    "print(run1)"
   ],
   "metadata": {
    "collapsed": false,
    "ExecuteTime": {
     "end_time": "2024-06-02T15:26:18.002339Z",
     "start_time": "2024-06-02T15:26:04.899822Z"
    }
   },
   "id": "53ec4b911939bf3c",
   "execution_count": 6
  },
  {
   "cell_type": "markdown",
   "source": [
    "Publish the run"
   ],
   "metadata": {
    "collapsed": false
   },
   "id": "819ec237162c6502"
  },
  {
   "cell_type": "code",
   "outputs": [
    {
     "ename": "AttributeError",
     "evalue": "'str' object has no attribute 'id'",
     "output_type": "error",
     "traceback": [
      "\u001B[1;31m---------------------------------------------------------------------------\u001B[0m",
      "\u001B[1;31mAttributeError\u001B[0m                            Traceback (most recent call last)",
      "Cell \u001B[1;32mIn[7], line 1\u001B[0m\n\u001B[1;32m----> 1\u001B[0m \u001B[43mrun1\u001B[49m\u001B[38;5;241;43m.\u001B[39;49m\u001B[43mpublish\u001B[49m\u001B[43m(\u001B[49m\u001B[43m)\u001B[49m\n",
      "File \u001B[1;32m~\\Files\\Git\\CausalBench\\demo\\causalbench\\modules\\module.py:63\u001B[0m, in \u001B[0;36mModule.publish\u001B[1;34m(self)\u001B[0m\n\u001B[0;32m     62\u001B[0m \u001B[38;5;28;01mdef\u001B[39;00m \u001B[38;5;21mpublish\u001B[39m(\u001B[38;5;28mself\u001B[39m):\n\u001B[1;32m---> 63\u001B[0m     \u001B[38;5;28;43mself\u001B[39;49m\u001B[38;5;241;43m.\u001B[39;49m\u001B[43msave\u001B[49m\u001B[43m(\u001B[49m\u001B[38;5;28;43mself\u001B[39;49m\u001B[38;5;241;43m.\u001B[39;49m\u001B[43m__getstate__\u001B[49m\u001B[43m(\u001B[49m\u001B[43m)\u001B[49m\u001B[43m)\u001B[49m\n",
      "File \u001B[1;32m~\\Files\\Git\\CausalBench\\demo\\causalbench\\modules\\run.py:25\u001B[0m, in \u001B[0;36mRun.save\u001B[1;34m(self, state)\u001B[0m\n\u001B[0;32m     22\u001B[0m     logging\u001B[38;5;241m.\u001B[39merror(\u001B[38;5;124mf\u001B[39m\u001B[38;5;124m'\u001B[39m\u001B[38;5;124mCannot publish run as it is generated by an unpublished pipeline\u001B[39m\u001B[38;5;124m'\u001B[39m)\n\u001B[0;32m     23\u001B[0m     \u001B[38;5;28;01mreturn\u001B[39;00m \u001B[38;5;28;01mFalse\u001B[39;00m\n\u001B[1;32m---> 25\u001B[0m \u001B[38;5;28mself\u001B[39m\u001B[38;5;241m.\u001B[39mmodule_id \u001B[38;5;241m=\u001B[39m \u001B[43msave_run\u001B[49m\u001B[43m(\u001B[49m\u001B[38;5;28;43mself\u001B[39;49m\u001B[43m)\u001B[49m\n\u001B[0;32m     26\u001B[0m \u001B[38;5;28;01mreturn\u001B[39;00m \u001B[38;5;28mself\u001B[39m\u001B[38;5;241m.\u001B[39mmodule_id \u001B[38;5;129;01mis\u001B[39;00m \u001B[38;5;129;01mnot\u001B[39;00m \u001B[38;5;28;01mNone\u001B[39;00m\n",
      "File \u001B[1;32m~\\Files\\Git\\CausalBench\\demo\\causalbench\\services\\requests.py:129\u001B[0m, in \u001B[0;36msave_run\u001B[1;34m(run)\u001B[0m\n\u001B[0;32m    126\u001B[0m data \u001B[38;5;241m=\u001B[39m bunchify(json\u001B[38;5;241m.\u001B[39mloads(response\u001B[38;5;241m.\u001B[39mtext))\n\u001B[0;32m    128\u001B[0m \u001B[38;5;28;01mif\u001B[39;00m response\u001B[38;5;241m.\u001B[39mstatus_code \u001B[38;5;241m==\u001B[39m \u001B[38;5;241m200\u001B[39m:\n\u001B[1;32m--> 129\u001B[0m     \u001B[38;5;28mprint\u001B[39m(\u001B[38;5;124mf\u001B[39m\u001B[38;5;124m'\u001B[39m\u001B[38;5;124mRun published: ID=\u001B[39m\u001B[38;5;132;01m{\u001B[39;00m\u001B[43mdata\u001B[49m\u001B[38;5;241;43m.\u001B[39;49m\u001B[43mid\u001B[49m\u001B[38;5;132;01m}\u001B[39;00m\u001B[38;5;124m'\u001B[39m, file\u001B[38;5;241m=\u001B[39msys\u001B[38;5;241m.\u001B[39mstderr)\n\u001B[0;32m    130\u001B[0m     \u001B[38;5;28;01mreturn\u001B[39;00m data\u001B[38;5;241m.\u001B[39mid\n\u001B[0;32m    132\u001B[0m \u001B[38;5;28;01melse\u001B[39;00m:\n",
      "\u001B[1;31mAttributeError\u001B[0m: 'str' object has no attribute 'id'"
     ]
    }
   ],
   "source": [
    "run1.publish()"
   ],
   "metadata": {
    "collapsed": false,
    "ExecuteTime": {
     "end_time": "2024-06-02T15:26:24.022515Z",
     "start_time": "2024-06-02T15:26:20.398397Z"
    }
   },
   "id": "549f16792d4c7a90",
   "execution_count": 7
  },
  {
   "cell_type": "code",
   "outputs": [],
   "source": [],
   "metadata": {
    "collapsed": false
   },
   "id": "be5824f1ea9f2d91"
  }
 ],
 "metadata": {
  "kernelspec": {
   "display_name": "Python 3",
   "language": "python",
   "name": "python3"
  },
  "language_info": {
   "codemirror_mode": {
    "name": "ipython",
    "version": 2
   },
   "file_extension": ".py",
   "mimetype": "text/x-python",
   "name": "python",
   "nbconvert_exporter": "python",
   "pygments_lexer": "ipython2",
   "version": "2.7.6"
  }
 },
 "nbformat": 4,
 "nbformat_minor": 5
}
