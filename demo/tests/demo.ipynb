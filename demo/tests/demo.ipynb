{
 "cells": [
  {
   "cell_type": "markdown",
   "source": [
    "Import Causal Bench packages"
   ],
   "metadata": {
    "collapsed": false
   },
   "id": "83687961d1b83ccd"
  },
  {
   "cell_type": "code",
   "execution_count": 1,
   "id": "initial_id",
   "metadata": {
    "collapsed": true,
    "ExecuteTime": {
     "end_time": "2024-06-02T20:19:28.955281Z",
     "start_time": "2024-06-02T20:19:27.056068Z"
    }
   },
   "outputs": [],
   "source": [
    "from causalbench.modules import Dataset, Metric, Model, Pipeline, Run"
   ]
  },
  {
   "cell_type": "markdown",
   "source": [
    "Create and publish a dataset"
   ],
   "metadata": {
    "collapsed": false
   },
   "id": "3275f95b13356515"
  },
  {
   "cell_type": "code",
   "outputs": [
    {
     "name": "stderr",
     "output_type": "stream",
     "text": [
      "Dataset published: ID=48\n"
     ]
    }
   ],
   "source": [
    "dataset1: Dataset = Dataset(zip_file=\"data/abalone.zip\")\n",
    "dataset1.publish()"
   ],
   "metadata": {
    "collapsed": false,
    "ExecuteTime": {
     "end_time": "2024-06-02T20:19:33.409624Z",
     "start_time": "2024-06-02T20:19:30.911834Z"
    }
   },
   "id": "3ed71dd6ffaff1ec",
   "execution_count": 2
  },
  {
   "cell_type": "code",
   "outputs": [
    {
     "name": "stderr",
     "output_type": "stream",
     "text": [
      "Model published: ID=39\n"
     ]
    }
   ],
   "source": [
    "model1: Model = Model(zip_file='model/ges.zip')\n",
    "model1.publish()"
   ],
   "metadata": {
    "collapsed": false,
    "ExecuteTime": {
     "end_time": "2024-06-02T20:19:39.779050Z",
     "start_time": "2024-06-02T20:19:38.650346Z"
    }
   },
   "id": "f522cf8f175f2067",
   "execution_count": 3
  },
  {
   "cell_type": "markdown",
   "source": [
    "Create and publish a metric"
   ],
   "metadata": {
    "collapsed": false
   },
   "id": "ebbc20244147ff76"
  },
  {
   "cell_type": "code",
   "outputs": [
    {
     "name": "stderr",
     "output_type": "stream",
     "text": [
      "Metric published: ID=49\n"
     ]
    }
   ],
   "source": [
    "metric1: Metric = Metric(zip_file='metric/accuracy_static.zip')\n",
    "metric1.publish()"
   ],
   "metadata": {
    "collapsed": false,
    "ExecuteTime": {
     "end_time": "2024-06-02T20:19:46.038458Z",
     "start_time": "2024-06-02T20:19:45.064397Z"
    }
   },
   "id": "a32e9b9b6a0b6f37",
   "execution_count": 4
  },
  {
   "cell_type": "markdown",
   "source": [
    "Create and publish a pipeline"
   ],
   "metadata": {
    "collapsed": false
   },
   "id": "7da746aa6b274028"
  },
  {
   "cell_type": "code",
   "outputs": [
    {
     "name": "stderr",
     "output_type": "stream",
     "text": [
      "Pipeline published: ID=47\n"
     ]
    }
   ],
   "source": [
    "pipeline1: Pipeline = Pipeline.create(name='pipeline1',\n",
    "                                task='discovery.static',\n",
    "                                dataset=dataset1,\n",
    "                                model=(model1, {'data': 'file1'}),\n",
    "                                metrics=[(metric1, {'ground_truth': 'file2'})])\n",
    "pipeline1.publish()"
   ],
   "metadata": {
    "collapsed": false,
    "ExecuteTime": {
     "end_time": "2024-06-02T20:20:02.392523Z",
     "start_time": "2024-06-02T20:20:01.553503Z"
    }
   },
   "id": "793ef0bc8d49a6ab",
   "execution_count": 5
  },
  {
   "cell_type": "markdown",
   "source": [
    "Execute the pipeline and print the run"
   ],
   "metadata": {
    "collapsed": false
   },
   "id": "e4b2743d38dcc019"
  },
  {
   "cell_type": "code",
   "outputs": [
    {
     "name": "stdout",
     "output_type": "stream",
     "text": [
      "--------------------------------------------------------------------------------\n",
      "Task: discovery.static\n",
      "Dataset: abalone\n",
      "Model: ges\n",
      "\n",
      "Metrics:\n",
      "    accuracy_static: 0.6049382716049383\n",
      "--------------------------------------------------------------------------------\n"
     ]
    }
   ],
   "source": [
    "run1: Run = pipeline1.execute()\n",
    "print(run1)"
   ],
   "metadata": {
    "collapsed": false,
    "ExecuteTime": {
     "end_time": "2024-06-02T20:20:24.325625Z",
     "start_time": "2024-06-02T20:20:07.373533Z"
    }
   },
   "id": "53ec4b911939bf3c",
   "execution_count": 6
  },
  {
   "cell_type": "markdown",
   "source": [
    "Publish the run"
   ],
   "metadata": {
    "collapsed": false
   },
   "id": "819ec237162c6502"
  },
  {
   "cell_type": "code",
   "outputs": [
    {
     "name": "stderr",
     "output_type": "stream",
     "text": [
      "Run published: ID=26\n"
     ]
    }
   ],
   "source": [
    "run1.publish()"
   ],
   "metadata": {
    "collapsed": false,
    "ExecuteTime": {
     "end_time": "2024-06-02T20:20:46.220099Z",
     "start_time": "2024-06-02T20:20:42.725815Z"
    }
   },
   "id": "549f16792d4c7a90",
   "execution_count": 7
  },
  {
   "cell_type": "code",
   "outputs": [],
   "source": [],
   "metadata": {
    "collapsed": false
   },
   "id": "be5824f1ea9f2d91"
  }
 ],
 "metadata": {
  "kernelspec": {
   "display_name": "Python 3",
   "language": "python",
   "name": "python3"
  },
  "language_info": {
   "codemirror_mode": {
    "name": "ipython",
    "version": 2
   },
   "file_extension": ".py",
   "mimetype": "text/x-python",
   "name": "python",
   "nbconvert_exporter": "python",
   "pygments_lexer": "ipython2",
   "version": "2.7.6"
  }
 },
 "nbformat": 4,
 "nbformat_minor": 5
}
