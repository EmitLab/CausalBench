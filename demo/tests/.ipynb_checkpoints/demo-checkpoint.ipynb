{
 "cells": [
  {
   "cell_type": "markdown",
   "id": "83687961d1b83ccd",
   "metadata": {
    "collapsed": false,
    "jupyter": {
     "outputs_hidden": false
    }
   },
   "source": [
    "Import Causal Bench packages"
   ]
  },
  {
   "cell_type": "code",
   "execution_count": null,
   "id": "initial_id",
   "metadata": {
    "ExecuteTime": {
     "end_time": "2024-08-10T20:57:27.359613Z",
     "start_time": "2024-08-10T20:57:27.291744Z"
    }
   },
   "outputs": [],
   "source": [
    "from causalbench.modules import Dataset, Metric, Model, Context, Run"
   ]
  },
  {
   "cell_type": "markdown",
   "id": "3275f95b13356515",
   "metadata": {
    "collapsed": false,
    "jupyter": {
     "outputs_hidden": false
    }
   },
   "source": [
    "Create and publish a dataset"
   ]
  },
  {
   "cell_type": "code",
   "execution_count": null,
   "id": "3ed71dd6ffaff1ec",
   "metadata": {
    "ExecuteTime": {
     "end_time": "2024-08-10T20:57:54.349414Z",
     "start_time": "2024-08-10T20:57:48.547131Z"
    },
    "collapsed": false,
    "jupyter": {
     "outputs_hidden": false
    }
   },
   "outputs": [],
   "source": [
    "dataset1: Dataset = Dataset(zip_file=\"data/abalone.zip\")\n",
    "dataset1.publish(public=True)"
   ]
  },
  {
   "cell_type": "markdown",
   "id": "88f86bdbf07439ad",
   "metadata": {
    "collapsed": false,
    "jupyter": {
     "outputs_hidden": false
    }
   },
   "source": [
    "Create and publish models"
   ]
  },
  {
   "cell_type": "code",
   "execution_count": null,
   "id": "f522cf8f175f2067",
   "metadata": {
    "ExecuteTime": {
     "end_time": "2024-08-10T20:58:12.684564Z",
     "start_time": "2024-08-10T20:58:12.123669Z"
    },
    "collapsed": false,
    "jupyter": {
     "outputs_hidden": false
    }
   },
   "outputs": [],
   "source": [
    "model1: Model = Model(zip_file='model/pc.zip')\n",
    "model1.publish()"
   ]
  },
  {
   "cell_type": "code",
   "execution_count": null,
   "id": "2fa2f747d48804c6",
   "metadata": {
    "ExecuteTime": {
     "end_time": "2024-08-10T20:58:15.347826Z",
     "start_time": "2024-08-10T20:58:14.672271Z"
    },
    "collapsed": false,
    "jupyter": {
     "outputs_hidden": false
    }
   },
   "outputs": [],
   "source": [
    "model2: Model = Model(zip_file='model/ges.zip')\n",
    "model2.publish()"
   ]
  },
  {
   "cell_type": "code",
   "execution_count": null,
   "id": "7eb6617a-48b1-4b73-aaaf-0041f19d832f",
   "metadata": {},
   "outputs": [],
   "source": [
    "model2: Model = Model(module_id=2, version=1)\n",
    "model2.publish(public=True)"
   ]
  },
  {
   "cell_type": "markdown",
   "id": "ebbc20244147ff76",
   "metadata": {
    "collapsed": false,
    "jupyter": {
     "outputs_hidden": false
    }
   },
   "source": [
    "Create and publish metrics"
   ]
  },
  {
   "cell_type": "code",
   "execution_count": null,
   "id": "a32e9b9b6a0b6f37",
   "metadata": {
    "ExecuteTime": {
     "end_time": "2024-08-10T20:58:23.947934Z",
     "start_time": "2024-08-10T20:58:23.324819Z"
    },
    "collapsed": false,
    "jupyter": {
     "outputs_hidden": false
    }
   },
   "outputs": [],
   "source": [
    "metric1: Metric = Metric(zip_file='metric/accuracy_static.zip')\n",
    "metric1.publish(public=True)"
   ]
  },
  {
   "cell_type": "code",
   "execution_count": null,
   "id": "fc05cc3d88b48e85",
   "metadata": {
    "ExecuteTime": {
     "end_time": "2024-08-10T20:58:42.351768Z",
     "start_time": "2024-08-10T20:58:41.614978Z"
    },
    "collapsed": false,
    "jupyter": {
     "outputs_hidden": false
    }
   },
   "outputs": [],
   "source": [
    "metric2: Metric = Metric(zip_file='metric/f1_static.zip')\n",
    "metric2.publish(public=True)"
   ]
  },
  {
   "cell_type": "markdown",
   "id": "7da746aa6b274028",
   "metadata": {
    "collapsed": false,
    "jupyter": {
     "outputs_hidden": false
    }
   },
   "source": [
    "Create and publish a context"
   ]
  },
  {
   "cell_type": "code",
   "execution_count": null,
   "id": "793ef0bc8d49a6ab",
   "metadata": {
    "ExecuteTime": {
     "end_time": "2024-08-10T20:58:59.790539Z",
     "start_time": "2024-08-10T20:58:59.197626Z"
    },
    "collapsed": false,
    "jupyter": {
     "outputs_hidden": false
    }
   },
   "outputs": [],
   "source": [
    "context1: Context = Context.create(module_id=10,\n",
    "                                   name='Context1',\n",
    "                                   description='Test static context',\n",
    "                                   task='discovery.static',\n",
    "                                   datasets=[(dataset1, {'data': 'file1', 'ground_truth': 'file2'})],\n",
    "                                   models=[model1, model2],\n",
    "                                   metrics=[metric1, metric2])\n",
    "context1.publish(public=True)"
   ]
  },
  {
   "cell_type": "markdown",
   "id": "e4b2743d38dcc019",
   "metadata": {
    "collapsed": false,
    "jupyter": {
     "outputs_hidden": false
    }
   },
   "source": [
    "Execute the context and print the run"
   ]
  },
  {
   "cell_type": "code",
   "execution_count": null,
   "id": "53ec4b911939bf3c",
   "metadata": {
    "ExecuteTime": {
     "end_time": "2024-08-10T20:59:34.968939Z",
     "start_time": "2024-08-10T20:59:03.373728Z"
    },
    "collapsed": false,
    "jupyter": {
     "outputs_hidden": false
    }
   },
   "outputs": [],
   "source": [
    "run: Run = context1.execute()\n",
    "print(run)"
   ]
  },
  {
   "cell_type": "markdown",
   "id": "819ec237162c6502",
   "metadata": {
    "collapsed": false,
    "jupyter": {
     "outputs_hidden": false
    }
   },
   "source": [
    "Publish the run"
   ]
  },
  {
   "cell_type": "code",
   "execution_count": null,
   "id": "549f16792d4c7a90",
   "metadata": {
    "ExecuteTime": {
     "end_time": "2024-08-10T21:00:01.514980Z",
     "start_time": "2024-08-10T21:00:00.956749Z"
    },
    "collapsed": false,
    "jupyter": {
     "outputs_hidden": false
    }
   },
   "outputs": [],
   "source": [
    "run.publish()"
   ]
  },
  {
   "cell_type": "code",
   "execution_count": null,
   "id": "be5824f1ea9f2d91",
   "metadata": {
    "collapsed": false,
    "jupyter": {
     "outputs_hidden": false
    }
   },
   "outputs": [],
   "source": []
  }
 ],
 "metadata": {
  "kernelspec": {
   "display_name": "Python 3 (ipykernel)",
   "language": "python",
   "name": "python3"
  },
  "language_info": {
   "codemirror_mode": {
    "name": "ipython",
    "version": 3
   },
   "file_extension": ".py",
   "mimetype": "text/x-python",
   "name": "python",
   "nbconvert_exporter": "python",
   "pygments_lexer": "ipython3",
   "version": "3.10.13"
  }
 },
 "nbformat": 4,
 "nbformat_minor": 5
}
